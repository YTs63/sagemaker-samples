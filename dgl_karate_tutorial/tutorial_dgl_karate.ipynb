{
 "cells": [
  {
   "cell_type": "code",
   "execution_count": 3,
   "metadata": {},
   "outputs": [],
   "source": [
    "import sagemaker\n",
    "from sagemaker import get_execution_role\n",
    "from sagemaker.session import Session\n",
    "\n",
    "# Setup session\n",
    "sess = sagemaker.Session()\n",
    "\n",
    "# S3 bucket for saving code and model artifacts.\n",
    "# Feel free to specify a different bucket here if you wish.\n",
    "bucket = 'dgl-tag-analysis'\n",
    "\n",
    "# Location to put your custom code.\n",
    "custom_code_upload_location = 'sagemaker/karate_club/customcode'\n",
    "\n",
    "# IAM execution role that gives Amazon SageMaker access to resources in your AWS account.\n",
    "# You can use the Amazon SageMaker Python SDK to get the role from the notebook environment. \n",
    "role = get_execution_role()"
   ]
  },
  {
   "cell_type": "code",
   "execution_count": 4,
   "metadata": {
    "collapsed": true,
    "jupyter": {
     "outputs_hidden": true
    }
   },
   "outputs": [
    {
     "name": "stdout",
     "output_type": "stream",
     "text": [
      "083242185112.dkr.ecr.ap-northeast-1.amazonaws.com/sagemaker-dgl-pytorch-gcn-tox21:latest\n"
     ]
    }
   ],
   "source": [
    "import boto3\n",
    "\n",
    "# Set target dgl-docker name\n",
    "docker_name='sagemaker-dgl-pytorch-gcn-tox21'\n",
    "\n",
    "CODE_PATH = 'main.py'\n",
    "code_location = sess.upload_data(CODE_PATH, bucket=bucket, key_prefix=custom_code_upload_location)\n",
    "\n",
    "account = sess.boto_session.client('sts').get_caller_identity()['Account']\n",
    "region = sess.boto_session.region_name\n",
    "image = '{}.dkr.ecr.{}.amazonaws.com/{}:latest'.format(account, region, docker_name)\n",
    "print(image)\n",
    "\n",
    "estimator = sagemaker.estimator.Estimator(image,\n",
    "                        role, \n",
    "                        train_instance_count=1, \n",
    "                        train_instance_type= 'ml.p3.2xlarge', #'ml.c4.2xlarge'\n",
    "                        hyperparameters={'entrypoint': CODE_PATH},\n",
    "                        sagemaker_session=sess)"
   ]
  },
  {
   "cell_type": "code",
   "execution_count": 5,
   "metadata": {},
   "outputs": [
    {
     "name": "stdout",
     "output_type": "stream",
     "text": [
      "2019-12-13 08:23:23 Starting - Starting the training job...\n",
      "2019-12-13 08:23:24 Starting - Launching requested ML instances......\n",
      "2019-12-13 08:24:31 Starting - Preparing the instances for training...\n",
      "2019-12-13 08:25:22 Downloading - Downloading input data...\n",
      "2019-12-13 08:25:28 Training - Downloading the training image.............\u001b[34m/opt/ml/input/data/training-code /\u001b[0m\n",
      "\u001b[34mWe have 34 nodes.\u001b[0m\n",
      "\u001b[34mWe have 156 edges.\u001b[0m\n",
      "\u001b[34mtensor([[0., 0., 1., 0., 0., 0., 0., 0., 0., 0., 0., 0., 0., 0., 0., 0., 0., 0.,\n",
      "         0., 0., 0., 0., 0., 0., 0., 0., 0., 0., 0., 0., 0., 0., 0., 0.]])\u001b[0m\n",
      "\u001b[34mtensor([[0., 0., 0., 0., 0., 0., 0., 0., 0., 0., 1., 0., 0., 0., 0., 0., 0., 0.,\n",
      "         0., 0., 0., 0., 0., 0., 0., 0., 0., 0., 0., 0., 0., 0., 0., 0.],\n",
      "        [0., 0., 0., 0., 0., 0., 0., 0., 0., 0., 0., 1., 0., 0., 0., 0., 0., 0.,\n",
      "         0., 0., 0., 0., 0., 0., 0., 0., 0., 0., 0., 0., 0., 0., 0., 0.]])\u001b[0m\n",
      "\u001b[34mEpoch 0 | Loss: 3.1299\u001b[0m\n",
      "\u001b[34mEpoch 1 | Loss: 2.5640\u001b[0m\n",
      "\u001b[34mEpoch 2 | Loss: 2.0033\u001b[0m\n",
      "\u001b[34mEpoch 3 | Loss: 1.4532\u001b[0m\n",
      "\u001b[34mEpoch 4 | Loss: 0.9639\u001b[0m\n",
      "\u001b[34mEpoch 5 | Loss: 0.6189\u001b[0m\n",
      "\u001b[34mEpoch 6 | Loss: 0.4447\u001b[0m\n",
      "\u001b[34mEpoch 7 | Loss: 0.3808\u001b[0m\n",
      "\u001b[34mEpoch 8 | Loss: 0.3420\u001b[0m\n",
      "\u001b[34mEpoch 9 | Loss: 0.2905\u001b[0m\n",
      "\u001b[34mEpoch 10 | Loss: 0.2357\u001b[0m\n",
      "\u001b[34mEpoch 11 | Loss: 0.1765\u001b[0m\n",
      "\u001b[34mEpoch 12 | Loss: 0.1303\u001b[0m\n",
      "\u001b[34mEpoch 13 | Loss: 0.0973\u001b[0m\n",
      "\u001b[34mEpoch 14 | Loss: 0.0721\u001b[0m\n",
      "\u001b[34mEpoch 15 | Loss: 0.0533\u001b[0m\n",
      "\u001b[34mEpoch 16 | Loss: 0.0399\u001b[0m\n",
      "\u001b[34mEpoch 17 | Loss: 0.0306\u001b[0m\n",
      "\u001b[34mEpoch 18 | Loss: 0.0239\u001b[0m\n",
      "\u001b[34mEpoch 19 | Loss: 0.0191\u001b[0m\n",
      "\u001b[34mEpoch 20 | Loss: 0.0156\u001b[0m\n",
      "\u001b[34mEpoch 21 | Loss: 0.0130\u001b[0m\n",
      "\u001b[34mEpoch 22 | Loss: 0.0111\u001b[0m\n",
      "\u001b[34mEpoch 23 | Loss: 0.0095\u001b[0m\n",
      "\u001b[34mEpoch 24 | Loss: 0.0083\u001b[0m\n",
      "\u001b[34mEpoch 25 | Loss: 0.0073\u001b[0m\n",
      "\u001b[34mEpoch 26 | Loss: 0.0065\u001b[0m\n",
      "\u001b[34mEpoch 27 | Loss: 0.0059\u001b[0m\n",
      "\u001b[34mEpoch 28 | Loss: 0.0053\u001b[0m\n",
      "\u001b[34mEpoch 29 | Loss: 0.0049\u001b[0m\n",
      "\u001b[34m/\u001b[0m\n",
      "\n",
      "2019-12-13 08:28:03 Uploading - Uploading generated training model\n",
      "2019-12-13 08:28:03 Completed - Training job completed\n",
      "Training seconds: 161\n",
      "Billable seconds: 161\n"
     ]
    }
   ],
   "source": [
    "estimator.fit({'training-code': code_location})"
   ]
  },
  {
   "cell_type": "code",
   "execution_count": null,
   "metadata": {},
   "outputs": [],
   "source": []
  }
 ],
 "metadata": {
  "kernelspec": {
   "display_name": "conda_pytorch_p36",
   "language": "python",
   "name": "conda_pytorch_p36"
  },
  "language_info": {
   "codemirror_mode": {
    "name": "ipython",
    "version": 3
   },
   "file_extension": ".py",
   "mimetype": "text/x-python",
   "name": "python",
   "nbconvert_exporter": "python",
   "pygments_lexer": "ipython3",
   "version": "3.6.5"
  }
 },
 "nbformat": 4,
 "nbformat_minor": 4
}
